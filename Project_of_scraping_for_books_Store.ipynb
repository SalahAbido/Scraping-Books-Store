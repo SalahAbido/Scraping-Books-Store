{
  "cells": [
    {
      "cell_type": "code",
      "execution_count": 16,
      "metadata": {
        "id": "Kl24goD95CQo"
      },
      "outputs": [],
      "source": [
        "import requests\n",
        "from bs4 import BeautifulSoup\n",
        "from skimage import io\n",
        "import io\n",
        "from PIL import Image\n",
        "import pandas as pd\n",
        "# import xlsxwriter\n",
        "from tqdm import tqdm"
      ]
    },
    {
      "cell_type": "code",
      "execution_count": 17,
      "metadata": {
        "id": "hKAhzJzb5CQr"
      },
      "outputs": [],
      "source": [
        "Main_Link=\"https://books.toscrape.com/\""
      ]
    },
    {
      "cell_type": "markdown",
      "metadata": {
        "id": "SamZVG2y5CQs"
      },
      "source": [
        "# finding Main Category"
      ]
    },
    {
      "cell_type": "code",
      "execution_count": 18,
      "metadata": {
        "id": "Gzdi4UH_5CQt"
      },
      "outputs": [],
      "source": [
        "request=requests.get(Main_Link)\n",
        "src=request.content\n",
        "soup =BeautifulSoup(src ,\"lxml\")"
      ]
    },
    {
      "cell_type": "code",
      "execution_count": 19,
      "metadata": {
        "id": "BLSsBUg-5CQt"
      },
      "outputs": [],
      "source": [
        "main_links=[]\n",
        "lin=soup.find_all(\"ul\")[1].find(\"li\").find(\"ul\").find_all(\"li\")\n",
        "for i in range (len(lin)):\n",
        "    main_links.append([i+2,lin[i].text[63:-55],\"https://books.toscrape.com/\"+lin[i].find(\"a\").get(\"href\")])"
      ]
    },
    {
      "cell_type": "code",
      "execution_count": 20,
      "metadata": {
        "colab": {
          "base_uri": "https://localhost:8080/",
          "height": 36
        },
        "id": "nly9jWRx5CQu",
        "outputId": "330e2290-acc4-47d5-8f83-34b93297dd6c"
      },
      "outputs": [
        {
          "output_type": "execute_result",
          "data": {
            "text/plain": [
              "'index'"
            ],
            "application/vnd.google.colaboratory.intrinsic+json": {
              "type": "string"
            }
          },
          "metadata": {},
          "execution_count": 20
        }
      ],
      "source": [
        "main_links[1][2][62:-5]"
      ]
    },
    {
      "cell_type": "code",
      "execution_count": 21,
      "metadata": {
        "id": "i_DlBpLu5CQu"
      },
      "outputs": [],
      "source": [
        "rate=[\"One\",\"Two\",\"Three\",\"Four\",\"Five\"]\n",
        "Books_Title=[]\n",
        "Books_Link=[]\n",
        "Books_price=[]\n",
        "Books_rate=[]\n",
        "Books_image=[]\n",
        "Books_category=[]"
      ]
    },
    {
      "cell_type": "code",
      "execution_count": 22,
      "metadata": {
        "colab": {
          "base_uri": "https://localhost:8080/"
        },
        "id": "U7jzh_OA5CQu",
        "outputId": "a38c8537-93f1-4af7-bd3b-4fd6c821b7ae"
      },
      "outputs": [
        {
          "output_type": "stream",
          "name": "stderr",
          "text": [
            "100%|██████████| 50/50 [00:43<00:00,  1.15it/s]\n"
          ]
        }
      ],
      "source": [
        "for j in tqdm(range(len(main_links))):\n",
        "    request=requests.get(main_links[j][2])\n",
        "    src=request.content\n",
        "    soup =BeautifulSoup(src ,\"lxml\")\n",
        "    article=soup.find_all(\"article\",{\"class\":\"product_pod\"})\n",
        "    for i in range(len(article)):\n",
        "        Books_Title.append(article[i].find(\"h3\").find(\"a\").get(\"href\")[9:-16])\n",
        "        Books_Link.append(str(\"https://books.toscrape.com/catalogue/\"+article[i].find(\"h3\").find(\"a\").get(\"href\")[9:]))\n",
        "        Books_price.append(float(article[i].find_all(\"div\")[1].find(\"p\").text[1:]))\n",
        "        Books_category.append(main_links[j][1])\n",
        "        for x in range(len(rate)):\n",
        "            if rate[x]==article[i].find(\"p\").get(\"class\")[1]:\n",
        "                Books_rate.append(x+1)\n",
        "#         image = requests.get(\"https://books.toscrape.com/\"+article[i].find(\"div\").find(\"a\").contents[0]['src']).content\n",
        "#         im = Image.open(io.BytesIO(image))\n",
        "#         Books_image.append(im)"
      ]
    },
    {
      "cell_type": "code",
      "execution_count": 23,
      "metadata": {
        "id": "DL9KeTa05CQv"
      },
      "outputs": [],
      "source": [
        "df = pd.DataFrame({'Books_Title': Books_Title,\n",
        "                   'Books_price': Books_price,\n",
        "                   'Books_rate': Books_rate,\n",
        "                   'Books_category':Books_category,\n",
        "#                    'Books_image': Books_image,\n",
        "                   'Books_Link':Books_Link,\n",
        "                   'Books_category':Books_category,\n",
        "                   })"
      ]
    },
    {
      "cell_type": "code",
      "execution_count": 24,
      "metadata": {
        "scrolled": true,
        "colab": {
          "base_uri": "https://localhost:8080/",
          "height": 423
        },
        "id": "Dw_p8s675CQv",
        "outputId": "95e0f541-2c31-49b7-9714-465ddbe9ed61"
      },
      "outputs": [
        {
          "output_type": "execute_result",
          "data": {
            "text/plain": [
              "                                           Books_Title  Books_price  \\\n",
              "0                                its-only-the-himalaya        45.17   \n",
              "1    full-moon-over-noahs-ark-an-odyssey-to-mount-a...        49.43   \n",
              "2    see-america-a-celebration-of-our-national-park...        48.87   \n",
              "3    vagabonding-an-uncommon-guide-to-the-art-of-lo...        36.94   \n",
              "4                                  under-the-tuscan-su        37.33   \n",
              "..                                                 ...          ...   \n",
              "512  why-the-right-went-wrong-conservatism-from-gol...        52.65   \n",
              "513  equal-is-unfair-americas-misguided-fight-again...        56.86   \n",
              "514                                      amid-the-chao        36.58   \n",
              "515                                          dark-note        19.19   \n",
              "516  the-long-shadow-of-small-ghosts-murder-and-mem...        10.97   \n",
              "\n",
              "     Books_rate Books_category  \\\n",
              "0             2         Travel   \n",
              "1             4         Travel   \n",
              "2             3         Travel   \n",
              "3             2         Travel   \n",
              "4             3         Travel   \n",
              "..          ...            ...   \n",
              "512           4       Politics   \n",
              "513           1       Politics   \n",
              "514           1       Cultural   \n",
              "515           5        Erotica   \n",
              "516           1          Crime   \n",
              "\n",
              "                                            Books_Link  \n",
              "0    https://books.toscrape.com/catalogue/its-only-...  \n",
              "1    https://books.toscrape.com/catalogue/full-moon...  \n",
              "2    https://books.toscrape.com/catalogue/see-ameri...  \n",
              "3    https://books.toscrape.com/catalogue/vagabondi...  \n",
              "4    https://books.toscrape.com/catalogue/under-the...  \n",
              "..                                                 ...  \n",
              "512  https://books.toscrape.com/catalogue/why-the-r...  \n",
              "513  https://books.toscrape.com/catalogue/equal-is-...  \n",
              "514  https://books.toscrape.com/catalogue/amid-the-...  \n",
              "515  https://books.toscrape.com/catalogue/dark-note...  \n",
              "516  https://books.toscrape.com/catalogue/the-long-...  \n",
              "\n",
              "[517 rows x 5 columns]"
            ],
            "text/html": [
              "\n",
              "  <div id=\"df-38bb1b72-448a-4be9-9a8c-06bb889437a2\">\n",
              "    <div class=\"colab-df-container\">\n",
              "      <div>\n",
              "<style scoped>\n",
              "    .dataframe tbody tr th:only-of-type {\n",
              "        vertical-align: middle;\n",
              "    }\n",
              "\n",
              "    .dataframe tbody tr th {\n",
              "        vertical-align: top;\n",
              "    }\n",
              "\n",
              "    .dataframe thead th {\n",
              "        text-align: right;\n",
              "    }\n",
              "</style>\n",
              "<table border=\"1\" class=\"dataframe\">\n",
              "  <thead>\n",
              "    <tr style=\"text-align: right;\">\n",
              "      <th></th>\n",
              "      <th>Books_Title</th>\n",
              "      <th>Books_price</th>\n",
              "      <th>Books_rate</th>\n",
              "      <th>Books_category</th>\n",
              "      <th>Books_Link</th>\n",
              "    </tr>\n",
              "  </thead>\n",
              "  <tbody>\n",
              "    <tr>\n",
              "      <th>0</th>\n",
              "      <td>its-only-the-himalaya</td>\n",
              "      <td>45.17</td>\n",
              "      <td>2</td>\n",
              "      <td>Travel</td>\n",
              "      <td>https://books.toscrape.com/catalogue/its-only-...</td>\n",
              "    </tr>\n",
              "    <tr>\n",
              "      <th>1</th>\n",
              "      <td>full-moon-over-noahs-ark-an-odyssey-to-mount-a...</td>\n",
              "      <td>49.43</td>\n",
              "      <td>4</td>\n",
              "      <td>Travel</td>\n",
              "      <td>https://books.toscrape.com/catalogue/full-moon...</td>\n",
              "    </tr>\n",
              "    <tr>\n",
              "      <th>2</th>\n",
              "      <td>see-america-a-celebration-of-our-national-park...</td>\n",
              "      <td>48.87</td>\n",
              "      <td>3</td>\n",
              "      <td>Travel</td>\n",
              "      <td>https://books.toscrape.com/catalogue/see-ameri...</td>\n",
              "    </tr>\n",
              "    <tr>\n",
              "      <th>3</th>\n",
              "      <td>vagabonding-an-uncommon-guide-to-the-art-of-lo...</td>\n",
              "      <td>36.94</td>\n",
              "      <td>2</td>\n",
              "      <td>Travel</td>\n",
              "      <td>https://books.toscrape.com/catalogue/vagabondi...</td>\n",
              "    </tr>\n",
              "    <tr>\n",
              "      <th>4</th>\n",
              "      <td>under-the-tuscan-su</td>\n",
              "      <td>37.33</td>\n",
              "      <td>3</td>\n",
              "      <td>Travel</td>\n",
              "      <td>https://books.toscrape.com/catalogue/under-the...</td>\n",
              "    </tr>\n",
              "    <tr>\n",
              "      <th>...</th>\n",
              "      <td>...</td>\n",
              "      <td>...</td>\n",
              "      <td>...</td>\n",
              "      <td>...</td>\n",
              "      <td>...</td>\n",
              "    </tr>\n",
              "    <tr>\n",
              "      <th>512</th>\n",
              "      <td>why-the-right-went-wrong-conservatism-from-gol...</td>\n",
              "      <td>52.65</td>\n",
              "      <td>4</td>\n",
              "      <td>Politics</td>\n",
              "      <td>https://books.toscrape.com/catalogue/why-the-r...</td>\n",
              "    </tr>\n",
              "    <tr>\n",
              "      <th>513</th>\n",
              "      <td>equal-is-unfair-americas-misguided-fight-again...</td>\n",
              "      <td>56.86</td>\n",
              "      <td>1</td>\n",
              "      <td>Politics</td>\n",
              "      <td>https://books.toscrape.com/catalogue/equal-is-...</td>\n",
              "    </tr>\n",
              "    <tr>\n",
              "      <th>514</th>\n",
              "      <td>amid-the-chao</td>\n",
              "      <td>36.58</td>\n",
              "      <td>1</td>\n",
              "      <td>Cultural</td>\n",
              "      <td>https://books.toscrape.com/catalogue/amid-the-...</td>\n",
              "    </tr>\n",
              "    <tr>\n",
              "      <th>515</th>\n",
              "      <td>dark-note</td>\n",
              "      <td>19.19</td>\n",
              "      <td>5</td>\n",
              "      <td>Erotica</td>\n",
              "      <td>https://books.toscrape.com/catalogue/dark-note...</td>\n",
              "    </tr>\n",
              "    <tr>\n",
              "      <th>516</th>\n",
              "      <td>the-long-shadow-of-small-ghosts-murder-and-mem...</td>\n",
              "      <td>10.97</td>\n",
              "      <td>1</td>\n",
              "      <td>Crime</td>\n",
              "      <td>https://books.toscrape.com/catalogue/the-long-...</td>\n",
              "    </tr>\n",
              "  </tbody>\n",
              "</table>\n",
              "<p>517 rows × 5 columns</p>\n",
              "</div>\n",
              "      <button class=\"colab-df-convert\" onclick=\"convertToInteractive('df-38bb1b72-448a-4be9-9a8c-06bb889437a2')\"\n",
              "              title=\"Convert this dataframe to an interactive table.\"\n",
              "              style=\"display:none;\">\n",
              "        \n",
              "  <svg xmlns=\"http://www.w3.org/2000/svg\" height=\"24px\"viewBox=\"0 0 24 24\"\n",
              "       width=\"24px\">\n",
              "    <path d=\"M0 0h24v24H0V0z\" fill=\"none\"/>\n",
              "    <path d=\"M18.56 5.44l.94 2.06.94-2.06 2.06-.94-2.06-.94-.94-2.06-.94 2.06-2.06.94zm-11 1L8.5 8.5l.94-2.06 2.06-.94-2.06-.94L8.5 2.5l-.94 2.06-2.06.94zm10 10l.94 2.06.94-2.06 2.06-.94-2.06-.94-.94-2.06-.94 2.06-2.06.94z\"/><path d=\"M17.41 7.96l-1.37-1.37c-.4-.4-.92-.59-1.43-.59-.52 0-1.04.2-1.43.59L10.3 9.45l-7.72 7.72c-.78.78-.78 2.05 0 2.83L4 21.41c.39.39.9.59 1.41.59.51 0 1.02-.2 1.41-.59l7.78-7.78 2.81-2.81c.8-.78.8-2.07 0-2.86zM5.41 20L4 18.59l7.72-7.72 1.47 1.35L5.41 20z\"/>\n",
              "  </svg>\n",
              "      </button>\n",
              "      \n",
              "  <style>\n",
              "    .colab-df-container {\n",
              "      display:flex;\n",
              "      flex-wrap:wrap;\n",
              "      gap: 12px;\n",
              "    }\n",
              "\n",
              "    .colab-df-convert {\n",
              "      background-color: #E8F0FE;\n",
              "      border: none;\n",
              "      border-radius: 50%;\n",
              "      cursor: pointer;\n",
              "      display: none;\n",
              "      fill: #1967D2;\n",
              "      height: 32px;\n",
              "      padding: 0 0 0 0;\n",
              "      width: 32px;\n",
              "    }\n",
              "\n",
              "    .colab-df-convert:hover {\n",
              "      background-color: #E2EBFA;\n",
              "      box-shadow: 0px 1px 2px rgba(60, 64, 67, 0.3), 0px 1px 3px 1px rgba(60, 64, 67, 0.15);\n",
              "      fill: #174EA6;\n",
              "    }\n",
              "\n",
              "    [theme=dark] .colab-df-convert {\n",
              "      background-color: #3B4455;\n",
              "      fill: #D2E3FC;\n",
              "    }\n",
              "\n",
              "    [theme=dark] .colab-df-convert:hover {\n",
              "      background-color: #434B5C;\n",
              "      box-shadow: 0px 1px 3px 1px rgba(0, 0, 0, 0.15);\n",
              "      filter: drop-shadow(0px 1px 2px rgba(0, 0, 0, 0.3));\n",
              "      fill: #FFFFFF;\n",
              "    }\n",
              "  </style>\n",
              "\n",
              "      <script>\n",
              "        const buttonEl =\n",
              "          document.querySelector('#df-38bb1b72-448a-4be9-9a8c-06bb889437a2 button.colab-df-convert');\n",
              "        buttonEl.style.display =\n",
              "          google.colab.kernel.accessAllowed ? 'block' : 'none';\n",
              "\n",
              "        async function convertToInteractive(key) {\n",
              "          const element = document.querySelector('#df-38bb1b72-448a-4be9-9a8c-06bb889437a2');\n",
              "          const dataTable =\n",
              "            await google.colab.kernel.invokeFunction('convertToInteractive',\n",
              "                                                     [key], {});\n",
              "          if (!dataTable) return;\n",
              "\n",
              "          const docLinkHtml = 'Like what you see? Visit the ' +\n",
              "            '<a target=\"_blank\" href=https://colab.research.google.com/notebooks/data_table.ipynb>data table notebook</a>'\n",
              "            + ' to learn more about interactive tables.';\n",
              "          element.innerHTML = '';\n",
              "          dataTable['output_type'] = 'display_data';\n",
              "          await google.colab.output.renderOutput(dataTable, element);\n",
              "          const docLink = document.createElement('div');\n",
              "          docLink.innerHTML = docLinkHtml;\n",
              "          element.appendChild(docLink);\n",
              "        }\n",
              "      </script>\n",
              "    </div>\n",
              "  </div>\n",
              "  "
            ]
          },
          "metadata": {},
          "execution_count": 24
        }
      ],
      "source": [
        "df"
      ]
    },
    {
      "cell_type": "code",
      "execution_count": 25,
      "metadata": {
        "id": "W7cSyxXK5CQw"
      },
      "outputs": [],
      "source": [
        "df.to_excel(\"books.xlsx\")"
      ]
    }
  ],
  "metadata": {
    "kernelspec": {
      "display_name": "Python 3 (ipykernel)",
      "language": "python",
      "name": "python3"
    },
    "language_info": {
      "codemirror_mode": {
        "name": "ipython",
        "version": 3
      },
      "file_extension": ".py",
      "mimetype": "text/x-python",
      "name": "python",
      "nbconvert_exporter": "python",
      "pygments_lexer": "ipython3",
      "version": "3.9.7"
    },
    "colab": {
      "provenance": []
    }
  },
  "nbformat": 4,
  "nbformat_minor": 0
}